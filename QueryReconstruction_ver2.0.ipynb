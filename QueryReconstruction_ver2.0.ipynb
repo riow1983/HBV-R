{
 "cells": [
  {
   "cell_type": "code",
   "execution_count": 1,
   "metadata": {
    "collapsed": true
   },
   "outputs": [],
   "source": [
    "import psycopg2 as pg\n",
    "import pandas.io.sql as psql"
   ]
  },
  {
   "cell_type": "code",
   "execution_count": 2,
   "metadata": {
    "collapsed": true
   },
   "outputs": [],
   "source": [
    "import datetime"
   ]
  },
  {
   "cell_type": "code",
   "execution_count": 3,
   "metadata": {
    "collapsed": true
   },
   "outputs": [],
   "source": [
    "import pandas as pd\n",
    "import numpy as np"
   ]
  },
  {
   "cell_type": "code",
   "execution_count": 4,
   "metadata": {
    "collapsed": false
   },
   "outputs": [],
   "source": [
    "start = datetime.date(2016,11,1)\n",
    "end = datetime.date(2016,11,14)"
   ]
  },
  {
   "cell_type": "code",
   "execution_count": 5,
   "metadata": {
    "collapsed": false
   },
   "outputs": [],
   "source": [
    "s = str(start)\n",
    "e = str(end)"
   ]
  },
  {
   "cell_type": "code",
   "execution_count": 6,
   "metadata": {
    "collapsed": false
   },
   "outputs": [
    {
     "name": "stdout",
     "output_type": "stream",
     "text": [
      "2016-11-01 2016-11-14\n"
     ]
    }
   ],
   "source": [
    "print(s,e)"
   ]
  },
  {
   "cell_type": "code",
   "execution_count": 2,
   "metadata": {
    "collapsed": false
   },
   "outputs": [
    {
     "data": {
      "text/plain": [
       "'\\nwith pg.connect(database=\\'uonuma_kikan\\',user=\\'postgres\\',host=\\'localhost\\',port=5432,password=12345) as conn:\\n    \\n    #処方ビュー\\n    view_os = \"\"\"\\n       SELECT v.pt_id\\n              ,v.pt_name\\n              ,v.bunsho_date AS start_date\\n              ,v.steroid_a_day\\n              ,v.yoho\\n              ,v.steroid_amount AS s_sum\\n              ,v.koshin_kacd\\n         FROM v_steroid_amount2 AS v\\n        WHERE (v.steroid_a_day >= 20 AND v.yoho >= 14 OR v.steroid_a_day IS NULL AND v.yoho IS NOT NULL)\\n          AND v.bunsho_date BETWEEN \\'{0}\\' AND \\'{1}\\'\\n        ORDER BY v.pt_id;\"\"\".format(s,e)\\n    \\n    #注射ビュー（ステロイド以外）\\n    view_esi = \"\"\"\\n       SELECT v.pt_id\\n              ,v.pt_name\\n              ,MIN(v.bunsho_date) AS start_date\\n              ,MAX(v.bunsho_date) AS last_date\\n              ,MAX(v.bunsho_date) - (MIN(v.bunsho_date) - 1) AS injection_period\\n              ,v.yoho\\n              ,SUM(v.steroid_a_day) AS steroid_a_day\\n              ,SUM(v.steroid_amount) AS s_sum\\n              ,MAX(v.koshin_kacd) AS koshin_kacd\\n         FROM v_steroid_amount2 AS v\\n        WHERE (v.yoho IS NULL AND v.steroid_a_day IS NULL)\\n          AND v.bunsho_date BETWEEN \\'{0}\\' AND \\'{1}\\'\\n     GROUP BY v.pt_id,v.pt_name,v.yoho\\n     ORDER BY v.pt_id;\"\"\".format(s,e)\\n    \\n    #注射ビュー（ステロイド）\\n    view_si = \"\"\"\\n       SELECT v.pt_id\\n              ,v.pt_name\\n              ,MIN(v.bunsho_date) AS start_date\\n              ,MAX(v.bunsho_date) AS last_date\\n              ,MAX(v.bunsho_date) - (MIN(v.bunsho_date) - 1) AS injection_period\\n              ,v.yoho\\n              ,SUM(v.steroid_a_day) AS steroid_a_day\\n              ,SUM(v.steroid_amount) AS s_sum\\n              ,MAX(v.koshin_kacd) AS koshin_kacd\\n         FROM v_steroid_amount2 AS v\\n        WHERE (v.yoho IS NULL AND v.steroid_a_day IS NOT NULL)\\n          AND v.bunsho_date BETWEEN \\'{0}\\' AND \\'{1}\\'\\n     GROUP BY v.pt_id,v.pt_name,v.yoho\\n     ORDER BY v.pt_id;\"\"\".format(s,e)\\n    \\n    kenreki = \"\"\"SELECT *\\n                   FROM kenreki\\n                  WHERE 文書日付 <= \\'%s\\'\\n               ORDER BY 患者id,検査コード_x,文書日付;\"\"\"%e\\n    \\n    # Added \\'身長cm\\', \\'体重kg\\' and \\'bmi割合\\' on Aug 30, 2016\\n    kekka = \"SELECT 患者id,death_f,身長cm,体重kg,bmi割合 FROM kekka ORDER BY 患者id;\"\\n    \\n    baraclude = \"SELECT * FROM baraclude;\"\\n    \\n    yoyaku = \"SELECT * FROM yoyaku;\"\\n    \\n    kamaster = \"SELECT * FROM kamaster;\"\\n    \\n    os = psql.read_sql(view_os,conn)\\n    esi = psql.read_sql(view_esi,conn)\\n    si = psql.read_sql(view_si,conn)\\n    kn = psql.read_sql(kenreki,conn)\\n    ke = psql.read_sql(kekka,conn)\\n    br = psql.read_sql(baraclude,conn)\\n    yo = psql.read_sql(yoyaku,conn)\\n    ka = psql.read_sql(kamaster,conn)\\nprint(os,esi,si,kn,ke,br,yo,ka)\\n'"
      ]
     },
     "execution_count": 2,
     "metadata": {},
     "output_type": "execute_result"
    }
   ],
   "source": [
    "with pg.connect(database='uonuma_kikan',user='postgres',host='localhost',port=5432,password=12345) as conn:\n",
    "    \n",
    "    #処方ビュー\n",
    "    view_os = \"\"\"\n",
    "       SELECT v.pt_id\n",
    "              ,v.pt_name\n",
    "              ,v.bunsho_date AS start_date\n",
    "              ,v.steroid_a_day\n",
    "              ,v.yoho\n",
    "              ,v.steroid_amount AS s_sum\n",
    "              ,v.koshin_kacd\n",
    "         FROM v_steroid_amount2 AS v\n",
    "        WHERE (v.steroid_a_day >= 20 AND v.yoho >= 14 OR v.steroid_a_day IS NULL AND v.yoho IS NOT NULL)\n",
    "          AND v.bunsho_date BETWEEN '{0}' AND '{1}'\n",
    "        ORDER BY v.pt_id;\"\"\".format(s,e)\n",
    "    \n",
    "    #注射ビュー（ステロイド以外）\n",
    "    view_esi = \"\"\"\n",
    "       SELECT v.pt_id\n",
    "              ,v.pt_name\n",
    "              ,MIN(v.bunsho_date) AS start_date\n",
    "              ,MAX(v.bunsho_date) AS last_date\n",
    "              ,MAX(v.bunsho_date) - (MIN(v.bunsho_date) - 1) AS injection_period\n",
    "              ,v.yoho\n",
    "              ,SUM(v.steroid_a_day) AS steroid_a_day\n",
    "              ,SUM(v.steroid_amount) AS s_sum\n",
    "              ,MAX(v.koshin_kacd) AS koshin_kacd\n",
    "         FROM v_steroid_amount2 AS v\n",
    "        WHERE (v.yoho IS NULL AND v.steroid_a_day IS NULL)\n",
    "          AND v.bunsho_date BETWEEN '{0}' AND '{1}'\n",
    "     GROUP BY v.pt_id,v.pt_name,v.yoho\n",
    "     ORDER BY v.pt_id;\"\"\".format(s,e)\n",
    "    \n",
    "    #注射ビュー（ステロイド）\n",
    "    view_si = \"\"\"\n",
    "       SELECT v.pt_id\n",
    "              ,v.pt_name\n",
    "              ,MIN(v.bunsho_date) AS start_date\n",
    "              ,MAX(v.bunsho_date) AS last_date\n",
    "              ,MAX(v.bunsho_date) - (MIN(v.bunsho_date) - 1) AS injection_period\n",
    "              ,v.yoho\n",
    "              ,SUM(v.steroid_a_day) AS steroid_a_day\n",
    "              ,SUM(v.steroid_amount) AS s_sum\n",
    "              ,MAX(v.koshin_kacd) AS koshin_kacd\n",
    "         FROM v_steroid_amount2 AS v\n",
    "        WHERE (v.yoho IS NULL AND v.steroid_a_day IS NOT NULL)\n",
    "          AND v.bunsho_date BETWEEN '{0}' AND '{1}'\n",
    "     GROUP BY v.pt_id,v.pt_name,v.yoho\n",
    "     ORDER BY v.pt_id;\"\"\".format(s,e)\n",
    "    \n",
    "    kenreki = \"\"\"SELECT *\n",
    "                   FROM kenreki\n",
    "                  WHERE 文書日付 <= '%s'\n",
    "               ORDER BY 患者id,検査コード_x,文書日付;\"\"\"%e\n",
    "    \n",
    "    # Added '身長cm', '体重kg' and 'bmi割合' on Aug 30, 2016\n",
    "    kekka = \"SELECT 患者id,death_f,身長cm,体重kg,bmi割合 FROM kekka ORDER BY 患者id;\"\n",
    "    \n",
    "    baraclude = \"SELECT * FROM baraclude;\"\n",
    "    \n",
    "    yoyaku = \"SELECT * FROM yoyaku;\"\n",
    "    \n",
    "    kamaster = \"SELECT * FROM kamaster;\"\n",
    "    \n",
    "    os = psql.read_sql(view_os,conn)\n",
    "    esi = psql.read_sql(view_esi,conn)\n",
    "    si = psql.read_sql(view_si,conn)\n",
    "    kn = psql.read_sql(kenreki,conn)\n",
    "    ke = psql.read_sql(kekka,conn)\n",
    "    br = psql.read_sql(baraclude,conn)\n",
    "    yo = psql.read_sql(yoyaku,conn)\n",
    "    ka = psql.read_sql(kamaster,conn)\n",
    "print(os,esi,si,kn,ke,br,yo,ka)"
   ]
  },
  {
   "cell_type": "code",
   "execution_count": 3,
   "metadata": {
    "collapsed": false
   },
   "outputs": [],
   "source": [
    "br"
   ]
  },
  {
   "cell_type": "code",
   "execution_count": 9,
   "metadata": {
    "collapsed": false
   },
   "outputs": [],
   "source": [
    "br['用法の日数回数'] = br['用法の日数回数'].apply(lambda x:datetime.timedelta(x))"
   ]
  },
  {
   "cell_type": "code",
   "execution_count": 10,
   "metadata": {
    "collapsed": false
   },
   "outputs": [],
   "source": [
    "br['文書日付'] = pd.to_datetime(br['文書日付'])"
   ]
  },
  {
   "cell_type": "code",
   "execution_count": 11,
   "metadata": {
    "collapsed": false
   },
   "outputs": [],
   "source": [
    "br['最終投与日'] = br['文書日付'] + br['用法の日数回数'] - datetime.timedelta(1)"
   ]
  },
  {
   "cell_type": "code",
   "execution_count": 4,
   "metadata": {
    "collapsed": false
   },
   "outputs": [],
   "source": [
    "br"
   ]
  },
  {
   "cell_type": "code",
   "execution_count": 5,
   "metadata": {
    "collapsed": false
   },
   "outputs": [],
   "source": [
    "br.sort_values('患者id')"
   ]
  },
  {
   "cell_type": "code",
   "execution_count": 14,
   "metadata": {
    "collapsed": false
   },
   "outputs": [],
   "source": [
    "br = br.groupby('患者id').agg({'最終投与日':'max'})"
   ]
  },
  {
   "cell_type": "code",
   "execution_count": 15,
   "metadata": {
    "collapsed": false
   },
   "outputs": [],
   "source": [
    "br.reset_index(inplace=True)"
   ]
  },
  {
   "cell_type": "code",
   "execution_count": 16,
   "metadata": {
    "collapsed": false
   },
   "outputs": [
    {
     "data": {
      "text/html": [
       "<div>\n",
       "<table border=\"1\" class=\"dataframe\">\n",
       "  <thead>\n",
       "    <tr style=\"text-align: right;\">\n",
       "      <th></th>\n",
       "      <th>患者id</th>\n",
       "      <th>最終投与日</th>\n",
       "    </tr>\n",
       "  </thead>\n",
       "  <tbody>\n",
       "    <tr>\n",
       "      <th>0</th>\n",
       "      <td>108154</td>\n",
       "      <td>2016-01-28</td>\n",
       "    </tr>\n",
       "    <tr>\n",
       "      <th>1</th>\n",
       "      <td>140317</td>\n",
       "      <td>2015-11-10</td>\n",
       "    </tr>\n",
       "    <tr>\n",
       "      <th>2</th>\n",
       "      <td>167835</td>\n",
       "      <td>2016-11-16</td>\n",
       "    </tr>\n",
       "    <tr>\n",
       "      <th>3</th>\n",
       "      <td>181161</td>\n",
       "      <td>2017-02-01</td>\n",
       "    </tr>\n",
       "    <tr>\n",
       "      <th>4</th>\n",
       "      <td>181285</td>\n",
       "      <td>2016-04-17</td>\n",
       "    </tr>\n",
       "  </tbody>\n",
       "</table>\n",
       "</div>"
      ],
      "text/plain": [
       "     患者id      最終投与日\n",
       "0  108154 2016-01-28\n",
       "1  140317 2015-11-10\n",
       "2  167835 2016-11-16\n",
       "3  181161 2017-02-01\n",
       "4  181285 2016-04-17"
      ]
     },
     "execution_count": 16,
     "metadata": {},
     "output_type": "execute_result"
    }
   ],
   "source": [
    "br.head()"
   ]
  },
  {
   "cell_type": "code",
   "execution_count": 17,
   "metadata": {
    "collapsed": false
   },
   "outputs": [
    {
     "name": "stdout",
     "output_type": "stream",
     "text": [
      "<class 'pandas.core.frame.DataFrame'>\n",
      "RangeIndex: 63 entries, 0 to 62\n",
      "Data columns (total 7 columns):\n",
      "pt_id            63 non-null object\n",
      "pt_name          63 non-null object\n",
      "start_date       63 non-null object\n",
      "steroid_a_day    20 non-null float64\n",
      "yoho             63 non-null float64\n",
      "s_sum            20 non-null float64\n",
      "koshin_kacd      63 non-null object\n",
      "dtypes: float64(3), object(4)\n",
      "memory usage: 2.5+ KB\n"
     ]
    }
   ],
   "source": [
    "os.info()"
   ]
  },
  {
   "cell_type": "code",
   "execution_count": 18,
   "metadata": {
    "collapsed": false
   },
   "outputs": [],
   "source": [
    "os['start_date'] = pd.to_datetime(os['start_date'])"
   ]
  },
  {
   "cell_type": "code",
   "execution_count": 6,
   "metadata": {
    "collapsed": false
   },
   "outputs": [],
   "source": [
    "os.head()"
   ]
  },
  {
   "cell_type": "code",
   "execution_count": 20,
   "metadata": {
    "collapsed": false
   },
   "outputs": [
    {
     "data": {
      "text/plain": [
       "(63, 7)"
      ]
     },
     "execution_count": 20,
     "metadata": {},
     "output_type": "execute_result"
    }
   ],
   "source": [
    "os.shape"
   ]
  },
  {
   "cell_type": "code",
   "execution_count": 21,
   "metadata": {
    "collapsed": true
   },
   "outputs": [],
   "source": [
    "esi['start_date'] = pd.to_datetime(esi['start_date'])"
   ]
  },
  {
   "cell_type": "code",
   "execution_count": 22,
   "metadata": {
    "collapsed": false
   },
   "outputs": [
    {
     "data": {
      "text/html": [
       "<div>\n",
       "<table border=\"1\" class=\"dataframe\">\n",
       "  <thead>\n",
       "    <tr style=\"text-align: right;\">\n",
       "      <th></th>\n",
       "      <th>pt_id</th>\n",
       "      <th>pt_name</th>\n",
       "      <th>start_date</th>\n",
       "      <th>last_date</th>\n",
       "      <th>injection_period</th>\n",
       "      <th>yoho</th>\n",
       "      <th>steroid_a_day</th>\n",
       "      <th>s_sum</th>\n",
       "      <th>koshin_kacd</th>\n",
       "    </tr>\n",
       "  </thead>\n",
       "  <tbody>\n",
       "  </tbody>\n",
       "</table>\n",
       "</div>"
      ],
      "text/plain": [
       "Empty DataFrame\n",
       "Columns: [pt_id, pt_name, start_date, last_date, injection_period, yoho, steroid_a_day, s_sum, koshin_kacd]\n",
       "Index: []"
      ]
     },
     "execution_count": 22,
     "metadata": {},
     "output_type": "execute_result"
    }
   ],
   "source": [
    "esi.head()"
   ]
  },
  {
   "cell_type": "code",
   "execution_count": 23,
   "metadata": {
    "collapsed": false
   },
   "outputs": [
    {
     "data": {
      "text/plain": [
       "(0, 9)"
      ]
     },
     "execution_count": 23,
     "metadata": {},
     "output_type": "execute_result"
    }
   ],
   "source": [
    "esi.shape"
   ]
  },
  {
   "cell_type": "code",
   "execution_count": 24,
   "metadata": {
    "collapsed": true
   },
   "outputs": [],
   "source": [
    "si['start_date'] = pd.to_datetime(si['start_date'])"
   ]
  },
  {
   "cell_type": "code",
   "execution_count": 7,
   "metadata": {
    "collapsed": false
   },
   "outputs": [],
   "source": [
    "si"
   ]
  },
  {
   "cell_type": "code",
   "execution_count": 26,
   "metadata": {
    "collapsed": false
   },
   "outputs": [
    {
     "data": {
      "text/plain": [
       "(38, 9)"
      ]
     },
     "execution_count": 26,
     "metadata": {},
     "output_type": "execute_result"
    }
   ],
   "source": [
    "si.shape"
   ]
  },
  {
   "cell_type": "code",
   "execution_count": 27,
   "metadata": {
    "collapsed": false
   },
   "outputs": [],
   "source": [
    "osb = pd.merge(os,br,left_on='pt_id',right_on='患者id',how='left')\n",
    "esib = pd.merge(esi,br,left_on='pt_id',right_on='患者id',how='left')\n",
    "sib = pd.merge(si,br,left_on='pt_id',right_on='患者id',how='left')"
   ]
  },
  {
   "cell_type": "code",
   "execution_count": 8,
   "metadata": {
    "collapsed": false
   },
   "outputs": [],
   "source": [
    "osb.head()"
   ]
  },
  {
   "cell_type": "code",
   "execution_count": 29,
   "metadata": {
    "collapsed": false
   },
   "outputs": [
    {
     "data": {
      "text/plain": [
       "(63, 9)"
      ]
     },
     "execution_count": 29,
     "metadata": {},
     "output_type": "execute_result"
    }
   ],
   "source": [
    "osb.shape"
   ]
  },
  {
   "cell_type": "code",
   "execution_count": 30,
   "metadata": {
    "collapsed": false
   },
   "outputs": [
    {
     "data": {
      "text/html": [
       "<div>\n",
       "<table border=\"1\" class=\"dataframe\">\n",
       "  <thead>\n",
       "    <tr style=\"text-align: right;\">\n",
       "      <th></th>\n",
       "      <th>pt_id</th>\n",
       "      <th>pt_name</th>\n",
       "      <th>start_date</th>\n",
       "      <th>last_date</th>\n",
       "      <th>injection_period</th>\n",
       "      <th>yoho</th>\n",
       "      <th>steroid_a_day</th>\n",
       "      <th>s_sum</th>\n",
       "      <th>koshin_kacd</th>\n",
       "      <th>患者id</th>\n",
       "      <th>最終投与日</th>\n",
       "    </tr>\n",
       "  </thead>\n",
       "  <tbody>\n",
       "  </tbody>\n",
       "</table>\n",
       "</div>"
      ],
      "text/plain": [
       "Empty DataFrame\n",
       "Columns: [pt_id, pt_name, start_date, last_date, injection_period, yoho, steroid_a_day, s_sum, koshin_kacd, 患者id, 最終投与日]\n",
       "Index: []"
      ]
     },
     "execution_count": 30,
     "metadata": {},
     "output_type": "execute_result"
    }
   ],
   "source": [
    "esib.head()"
   ]
  },
  {
   "cell_type": "code",
   "execution_count": 31,
   "metadata": {
    "collapsed": false
   },
   "outputs": [
    {
     "data": {
      "text/plain": [
       "(0, 11)"
      ]
     },
     "execution_count": 31,
     "metadata": {},
     "output_type": "execute_result"
    }
   ],
   "source": [
    "esib.shape"
   ]
  },
  {
   "cell_type": "code",
   "execution_count": 9,
   "metadata": {
    "collapsed": false
   },
   "outputs": [],
   "source": [
    "sib"
   ]
  },
  {
   "cell_type": "code",
   "execution_count": 33,
   "metadata": {
    "collapsed": false
   },
   "outputs": [
    {
     "data": {
      "text/plain": [
       "(38, 11)"
      ]
     },
     "execution_count": 33,
     "metadata": {},
     "output_type": "execute_result"
    }
   ],
   "source": [
    "sib.shape"
   ]
  },
  {
   "cell_type": "code",
   "execution_count": 10,
   "metadata": {
    "collapsed": false
   },
   "outputs": [],
   "source": [
    "osb = osb[(osb['start_date'] > osb['最終投与日'])|(osb['最終投与日'].isnull())]\n",
    "osb"
   ]
  },
  {
   "cell_type": "code",
   "execution_count": 35,
   "metadata": {
    "collapsed": false
   },
   "outputs": [
    {
     "data": {
      "text/html": [
       "<div>\n",
       "<table border=\"1\" class=\"dataframe\">\n",
       "  <thead>\n",
       "    <tr style=\"text-align: right;\">\n",
       "      <th></th>\n",
       "      <th>pt_id</th>\n",
       "      <th>pt_name</th>\n",
       "      <th>start_date</th>\n",
       "      <th>last_date</th>\n",
       "      <th>injection_period</th>\n",
       "      <th>yoho</th>\n",
       "      <th>steroid_a_day</th>\n",
       "      <th>s_sum</th>\n",
       "      <th>koshin_kacd</th>\n",
       "      <th>患者id</th>\n",
       "      <th>最終投与日</th>\n",
       "    </tr>\n",
       "  </thead>\n",
       "  <tbody>\n",
       "  </tbody>\n",
       "</table>\n",
       "</div>"
      ],
      "text/plain": [
       "Empty DataFrame\n",
       "Columns: [pt_id, pt_name, start_date, last_date, injection_period, yoho, steroid_a_day, s_sum, koshin_kacd, 患者id, 最終投与日]\n",
       "Index: []"
      ]
     },
     "execution_count": 35,
     "metadata": {},
     "output_type": "execute_result"
    }
   ],
   "source": [
    "esib = esib[(esib['start_date'] > esib['最終投与日'])|(esib['最終投与日'].isnull())]\n",
    "esib"
   ]
  },
  {
   "cell_type": "code",
   "execution_count": 11,
   "metadata": {
    "collapsed": false
   },
   "outputs": [],
   "source": [
    "sib = sib[(sib['start_date'] > sib['最終投与日'])|(sib['最終投与日'].isnull())]\n",
    "sib"
   ]
  },
  {
   "cell_type": "code",
   "execution_count": 37,
   "metadata": {
    "collapsed": false
   },
   "outputs": [
    {
     "name": "stdout",
     "output_type": "stream",
     "text": [
      "(63, 9) (0, 11) (38, 11)\n"
     ]
    }
   ],
   "source": [
    "print(osb.shape,esib.shape,sib.shape)"
   ]
  },
  {
   "cell_type": "code",
   "execution_count": 38,
   "metadata": {
    "collapsed": false
   },
   "outputs": [
    {
     "data": {
      "text/html": [
       "<div>\n",
       "<table border=\"1\" class=\"dataframe\">\n",
       "  <thead>\n",
       "    <tr style=\"text-align: right;\">\n",
       "      <th></th>\n",
       "      <th>患者id</th>\n",
       "      <th>death_f</th>\n",
       "      <th>身長cm</th>\n",
       "      <th>体重kg</th>\n",
       "      <th>bmi割合</th>\n",
       "    </tr>\n",
       "  </thead>\n",
       "  <tbody>\n",
       "    <tr>\n",
       "      <th>0</th>\n",
       "      <td>100005</td>\n",
       "      <td>False</td>\n",
       "      <td>152.1</td>\n",
       "      <td>53.0</td>\n",
       "      <td>22.909596</td>\n",
       "    </tr>\n",
       "    <tr>\n",
       "      <th>1</th>\n",
       "      <td>100013</td>\n",
       "      <td>None</td>\n",
       "      <td>88.9</td>\n",
       "      <td>13.2</td>\n",
       "      <td>16.702074</td>\n",
       "    </tr>\n",
       "    <tr>\n",
       "      <th>2</th>\n",
       "      <td>100021</td>\n",
       "      <td>False</td>\n",
       "      <td>146.8</td>\n",
       "      <td>46.3</td>\n",
       "      <td>21.484679</td>\n",
       "    </tr>\n",
       "    <tr>\n",
       "      <th>3</th>\n",
       "      <td>100030</td>\n",
       "      <td>None</td>\n",
       "      <td>163.2</td>\n",
       "      <td>48.5</td>\n",
       "      <td>18.209642</td>\n",
       "    </tr>\n",
       "    <tr>\n",
       "      <th>4</th>\n",
       "      <td>100048</td>\n",
       "      <td>None</td>\n",
       "      <td>NaN</td>\n",
       "      <td>NaN</td>\n",
       "      <td>NaN</td>\n",
       "    </tr>\n",
       "  </tbody>\n",
       "</table>\n",
       "</div>"
      ],
      "text/plain": [
       "     患者id death_f   身長cm  体重kg      bmi割合\n",
       "0  100005   False  152.1  53.0  22.909596\n",
       "1  100013    None   88.9  13.2  16.702074\n",
       "2  100021   False  146.8  46.3  21.484679\n",
       "3  100030    None  163.2  48.5  18.209642\n",
       "4  100048    None    NaN   NaN        NaN"
      ]
     },
     "execution_count": 38,
     "metadata": {},
     "output_type": "execute_result"
    }
   ],
   "source": [
    "# '身長cm', '体重kg', 'bmi割合' will be appeared\n",
    "ke.head()"
   ]
  },
  {
   "cell_type": "code",
   "execution_count": 39,
   "metadata": {
    "collapsed": true
   },
   "outputs": [],
   "source": [
    "osbk = pd.merge(osb,ke,left_on='pt_id',right_on='患者id',how='left')\n",
    "esibk = pd.merge(esib,ke,left_on='pt_id',right_on='患者id',how='left')\n",
    "sibk = pd.merge(sib,ke,left_on='pt_id',right_on='患者id',how='left')"
   ]
  },
  {
   "cell_type": "code",
   "execution_count": 40,
   "metadata": {
    "collapsed": false
   },
   "outputs": [
    {
     "name": "stdout",
     "output_type": "stream",
     "text": [
      "(63, 14) (0, 16) (38, 16)\n"
     ]
    }
   ],
   "source": [
    "print(osbk.shape,esibk.shape,sibk.shape)"
   ]
  },
  {
   "cell_type": "code",
   "execution_count": 41,
   "metadata": {
    "collapsed": false
   },
   "outputs": [],
   "source": [
    "# Remove dead patients\n",
    "osbk = osbk[osbk['death_f']!=True]\n",
    "esibk = esibk[esibk['death_f']!=True]\n",
    "sibk = sibk[sibk['death_f']!=True]"
   ]
  },
  {
   "cell_type": "code",
   "execution_count": 42,
   "metadata": {
    "collapsed": false
   },
   "outputs": [
    {
     "name": "stdout",
     "output_type": "stream",
     "text": [
      "(63, 14) (0, 16) (36, 16)\n"
     ]
    }
   ],
   "source": [
    "print(osbk.shape,esibk.shape,sibk.shape)"
   ]
  },
  {
   "cell_type": "code",
   "execution_count": 12,
   "metadata": {
    "collapsed": false
   },
   "outputs": [],
   "source": [
    "kn"
   ]
  },
  {
   "cell_type": "code",
   "execution_count": 44,
   "metadata": {
    "collapsed": false
   },
   "outputs": [
    {
     "data": {
      "text/plain": [
       "Index(['index', '患者id', '文書日付_d', '伝票名称', '検査コード_x', '検査名称_x', '結果_x',\n",
       "       '結果（数値）', 'key', '検査コード_y', '検査名称_y', '結果_y', '文書日付'],\n",
       "      dtype='object')"
      ]
     },
     "execution_count": 44,
     "metadata": {},
     "output_type": "execute_result"
    }
   ],
   "source": [
    "kn.columns"
   ]
  },
  {
   "cell_type": "code",
   "execution_count": 45,
   "metadata": {
    "collapsed": false
   },
   "outputs": [],
   "source": [
    "knm = kn[['患者id','文書日付','検査コード_x','検査名称_x','結果（数値）','結果_y']]"
   ]
  },
  {
   "cell_type": "code",
   "execution_count": 13,
   "metadata": {
    "collapsed": false
   },
   "outputs": [],
   "source": [
    "knm[knm['結果_y'].isnull()]"
   ]
  },
  {
   "cell_type": "code",
   "execution_count": 47,
   "metadata": {
    "collapsed": false
   },
   "outputs": [
    {
     "name": "stderr",
     "output_type": "stream",
     "text": [
      "C:\\Anaconda3\\lib\\site-packages\\ipykernel\\__main__.py:1: SettingWithCopyWarning: \n",
      "A value is trying to be set on a copy of a slice from a DataFrame.\n",
      "Try using .loc[row_indexer,col_indexer] = value instead\n",
      "\n",
      "See the caveats in the documentation: http://pandas.pydata.org/pandas-docs/stable/indexing.html#indexing-view-versus-copy\n",
      "  if __name__ == '__main__':\n"
     ]
    }
   ],
   "source": [
    "knm['結果_y'] = knm['結果_y'].fillna('ｹﾝｻﾁｭｳ')"
   ]
  },
  {
   "cell_type": "code",
   "execution_count": 48,
   "metadata": {
    "collapsed": false
   },
   "outputs": [
    {
     "data": {
      "text/html": [
       "<div>\n",
       "<table border=\"1\" class=\"dataframe\">\n",
       "  <thead>\n",
       "    <tr style=\"text-align: right;\">\n",
       "      <th></th>\n",
       "      <th>患者id</th>\n",
       "      <th>文書日付</th>\n",
       "      <th>検査コード_x</th>\n",
       "      <th>検査名称_x</th>\n",
       "      <th>結果（数値）</th>\n",
       "      <th>結果_y</th>\n",
       "    </tr>\n",
       "  </thead>\n",
       "  <tbody>\n",
       "  </tbody>\n",
       "</table>\n",
       "</div>"
      ],
      "text/plain": [
       "Empty DataFrame\n",
       "Columns: [患者id, 文書日付, 検査コード_x, 検査名称_x, 結果（数値）, 結果_y]\n",
       "Index: []"
      ]
     },
     "execution_count": 48,
     "metadata": {},
     "output_type": "execute_result"
    }
   ],
   "source": [
    "knm[knm['結果_y'].isnull()]"
   ]
  },
  {
   "cell_type": "code",
   "execution_count": 14,
   "metadata": {
    "collapsed": false
   },
   "outputs": [],
   "source": [
    "knm[knm['結果_y']=='ｹﾝｻﾁｭｳ']"
   ]
  },
  {
   "cell_type": "code",
   "execution_count": 50,
   "metadata": {
    "collapsed": true
   },
   "outputs": [],
   "source": [
    "#knm.to_excel('knm.xlsx')"
   ]
  },
  {
   "cell_type": "code",
   "execution_count": 51,
   "metadata": {
    "collapsed": true
   },
   "outputs": [],
   "source": [
    "# added '2011700' on 16 Nov, 2016\n",
    "# '2011700' = ＨＢＶＤＮＡ（新）定量\n",
    "# '2011701' = ＨＢＶＤＮＡ（新）定性\n",
    "cd = ['2011600','2011700','2012000']\n",
    "# cd: ＨＢＶＤＮＡ関連検査の定量検査コード"
   ]
  },
  {
   "cell_type": "code",
   "execution_count": 52,
   "metadata": {
    "collapsed": false
   },
   "outputs": [
    {
     "data": {
      "text/plain": [
       "{'(-)',\n",
       " '2.1',\n",
       " '2.2',\n",
       " '2.3',\n",
       " '2.4',\n",
       " '2.5',\n",
       " '2.6',\n",
       " '2.7',\n",
       " '2.8',\n",
       " '2.9',\n",
       " '3',\n",
       " '3.1',\n",
       " '3.2',\n",
       " '3.3',\n",
       " '3.4',\n",
       " '3.5',\n",
       " '3.6',\n",
       " '3.7',\n",
       " '3.8',\n",
       " '4',\n",
       " '4.1',\n",
       " '4.2',\n",
       " '4.7',\n",
       " '4.8',\n",
       " '5.1',\n",
       " '5.9',\n",
       " '7.6',\n",
       " '8.5',\n",
       " '<2.1+',\n",
       " 'ｹﾝｻﾁｭｳ',\n",
       " 'ﾐｹﾝｼﾕﾂ'}"
      ]
     },
     "execution_count": 52,
     "metadata": {},
     "output_type": "execute_result"
    }
   ],
   "source": [
    "set(knm[knm['検査コード_x'].isin(cd)]['結果_y'].tolist())"
   ]
  },
  {
   "cell_type": "code",
   "execution_count": 53,
   "metadata": {
    "collapsed": true
   },
   "outputs": [],
   "source": [
    "# 検査コード_x:定量検査コード\n",
    "#　結果_y:定性結果\n",
    "# 結果_x:定量結果\n",
    "'''\n",
    "+----------+ +----------+\n",
    "|検歴（定量）x | |検歴（定性）y|\n",
    "|          | |          |\n",
    "+----------+ +----------+\n",
    "\n",
    "teisei = [2010100,2010200,2011400,2012001,2010702,2010802,2011601,2011701]\n",
    "teiryo = [2010101,2010201,2011401,2012000,2010701,2010801,2011600,2011700]\n",
    "# 2011600 has both sides of character, qualitative and quantitative.\n",
    "# On 16 Nov, 2016 we added '2011701' in teisei and '2011700' in teiryo.\n",
    "...\n",
    "rk1 = rk[rk['検査コード'].isin(teisei)]\n",
    "rk2 = rk[rk['検査コード'].isin(teiryo)]\n",
    "...\n",
    "rkc = pd.merge(rk2_,rk1_,on='key',how='left')\n",
    "\n",
    "\"cited from HBV_import\"\n",
    "\n",
    "'''\n",
    "def xchange(df):\n",
    "    for x in df.index:\n",
    "        if df.loc[x,'検査コード_x'] in cd:\n",
    "            if df.loc[x,'結果_y']=='ﾐｹﾝｼﾕﾂ':\n",
    "                df.loc[x,'結果_y']='(-)'\n",
    "            elif df.loc[x,'結果_y']=='ｹﾝｻﾁｭｳ':\n",
    "                pass\n",
    "            elif df.loc[x,'結果_y']=='(-)':\n",
    "                pass\n",
    "            else:\n",
    "                df.loc[x,'結果_y']='(+)'\n",
    "        else:\n",
    "            pass"
   ]
  },
  {
   "cell_type": "code",
   "execution_count": 54,
   "metadata": {
    "collapsed": false
   },
   "outputs": [
    {
     "name": "stderr",
     "output_type": "stream",
     "text": [
      "C:\\Anaconda3\\lib\\site-packages\\pandas\\core\\indexing.py:465: SettingWithCopyWarning: \n",
      "A value is trying to be set on a copy of a slice from a DataFrame.\n",
      "Try using .loc[row_indexer,col_indexer] = value instead\n",
      "\n",
      "See the caveats in the documentation: http://pandas.pydata.org/pandas-docs/stable/indexing.html#indexing-view-versus-copy\n",
      "  self.obj[item] = s\n"
     ]
    }
   ],
   "source": [
    "xchange(knm)"
   ]
  },
  {
   "cell_type": "code",
   "execution_count": 55,
   "metadata": {
    "collapsed": true
   },
   "outputs": [],
   "source": [
    "#knm.to_excel('knm_xchange_%s.xlsx'%e)"
   ]
  },
  {
   "cell_type": "code",
   "execution_count": 56,
   "metadata": {
    "collapsed": false
   },
   "outputs": [
    {
     "data": {
      "text/plain": [
       "{'(+)', '(-)', 'ｹﾝｻﾁｭｳ'}"
      ]
     },
     "execution_count": 56,
     "metadata": {},
     "output_type": "execute_result"
    }
   ],
   "source": [
    "set(knm[knm['検査コード_x'].isin(cd)]['結果_y'].tolist())"
   ]
  },
  {
   "cell_type": "code",
   "execution_count": 57,
   "metadata": {
    "collapsed": false
   },
   "outputs": [
    {
     "name": "stdout",
     "output_type": "stream",
     "text": [
      "(63, 14) (0, 16) (36, 16)\n"
     ]
    }
   ],
   "source": [
    "print(osbk.shape,esibk.shape,sibk.shape)"
   ]
  },
  {
   "cell_type": "code",
   "execution_count": 58,
   "metadata": {
    "collapsed": true
   },
   "outputs": [],
   "source": [
    "osbkk = pd.merge(osbk,knm,left_on='pt_id',right_on='患者id',how='left')\n",
    "esibkk = pd.merge(esibk,knm,left_on='pt_id',right_on='患者id',how='left')\n",
    "sibkk = pd.merge(sibk,knm,left_on='pt_id',right_on='患者id',how='left')"
   ]
  },
  {
   "cell_type": "code",
   "execution_count": 59,
   "metadata": {
    "collapsed": false
   },
   "outputs": [
    {
     "name": "stdout",
     "output_type": "stream",
     "text": [
      "(220, 20) (0, 22) (68, 22)\n"
     ]
    }
   ],
   "source": [
    "print(osbkk.shape,esibkk.shape,sibkk.shape)"
   ]
  },
  {
   "cell_type": "code",
   "execution_count": 15,
   "metadata": {
    "collapsed": false
   },
   "outputs": [],
   "source": [
    "yo.head()"
   ]
  },
  {
   "cell_type": "code",
   "execution_count": 61,
   "metadata": {
    "collapsed": false
   },
   "outputs": [
    {
     "data": {
      "text/plain": [
       "' 41'"
      ]
     },
     "execution_count": 61,
     "metadata": {},
     "output_type": "execute_result"
    }
   ],
   "source": [
    "yo['診療科コード'][0]"
   ]
  },
  {
   "cell_type": "code",
   "execution_count": 62,
   "metadata": {
    "collapsed": false
   },
   "outputs": [
    {
     "data": {
      "text/plain": [
       "'20'"
      ]
     },
     "execution_count": 62,
     "metadata": {},
     "output_type": "execute_result"
    }
   ],
   "source": [
    "osbkk['koshin_kacd'][0]"
   ]
  },
  {
   "cell_type": "code",
   "execution_count": 63,
   "metadata": {
    "collapsed": false
   },
   "outputs": [],
   "source": [
    "def xreplace(x):\n",
    "    if x[0] == '0':\n",
    "        return x[1:]\n",
    "    else:\n",
    "        return x"
   ]
  },
  {
   "cell_type": "code",
   "execution_count": 64,
   "metadata": {
    "collapsed": false
   },
   "outputs": [],
   "source": [
    "yo['診療科コード'] = yo['診療科コード'].apply(lambda x:x.replace(' ','')).apply(xreplace)"
   ]
  },
  {
   "cell_type": "code",
   "execution_count": 65,
   "metadata": {
    "collapsed": false
   },
   "outputs": [
    {
     "data": {
      "text/plain": [
       "'41'"
      ]
     },
     "execution_count": 65,
     "metadata": {},
     "output_type": "execute_result"
    }
   ],
   "source": [
    "yo['診療科コード'][0]"
   ]
  },
  {
   "cell_type": "code",
   "execution_count": 66,
   "metadata": {
    "collapsed": true
   },
   "outputs": [],
   "source": [
    "# *******************(以下作業中・・作業完了2016.10.17)***********************"
   ]
  },
  {
   "cell_type": "code",
   "execution_count": 67,
   "metadata": {
    "collapsed": false
   },
   "outputs": [],
   "source": [
    "with pg.connect(database='uonuma_kikan',user='postgres',host='localhost',port=5432,password=12345) as conn:\n",
    "    \n",
    "    #ビュー\n",
    "    view = \"\"\"\n",
    "       SELECT *\n",
    "         FROM v_steroid_amount2\n",
    "        WHERE bunsho_date BETWEEN '{0}' AND '{1}'\n",
    "        ORDER BY pt_id;\"\"\".format(s,e)\n",
    "    vw = psql.read_sql(view,conn)"
   ]
  },
  {
   "cell_type": "code",
   "execution_count": 68,
   "metadata": {
    "collapsed": true
   },
   "outputs": [],
   "source": [
    "import numpy as np"
   ]
  },
  {
   "cell_type": "code",
   "execution_count": 69,
   "metadata": {
    "collapsed": true
   },
   "outputs": [],
   "source": [
    "yo['key'] = yo['患者id']+yo['診療科コード']"
   ]
  },
  {
   "cell_type": "code",
   "execution_count": 70,
   "metadata": {
    "collapsed": true
   },
   "outputs": [],
   "source": [
    "def xkey(dfx):\n",
    "    try:\n",
    "        dfx['key'] = dfx['pt_id']+dfx['koshin_kacd']\n",
    "    except:\n",
    "        pass"
   ]
  },
  {
   "cell_type": "code",
   "execution_count": 71,
   "metadata": {
    "collapsed": true
   },
   "outputs": [],
   "source": [
    "xkey(osbkk)\n",
    "xkey(esibkk)\n",
    "xkey(sibkk)"
   ]
  },
  {
   "cell_type": "code",
   "execution_count": 16,
   "metadata": {
    "collapsed": false
   },
   "outputs": [],
   "source": [
    "sibkk"
   ]
  },
  {
   "cell_type": "code",
   "execution_count": 73,
   "metadata": {
    "collapsed": true
   },
   "outputs": [],
   "source": [
    "def xmerge(dfx,dfy):\n",
    "    try:\n",
    "        dfx = pd.merge(dfx,dfy,on='key',how='left')\n",
    "        dfx['予約日時'] = ''\n",
    "        dfx['診療科コード'] = ''\n",
    "        dfx['診療科名'] = ''\n",
    "    except:\n",
    "        pass"
   ]
  },
  {
   "cell_type": "code",
   "execution_count": 18,
   "metadata": {
    "collapsed": false
   },
   "outputs": [
    {
     "data": {
      "text/plain": [
       "\"\\nosbkky = pd.merge(osbkk,yo,on='key',how='left')\\nosbkky['予約日時'] = ''\\nosbkky['診療科コード'] = ''\\nosbkky['診療科名'] = ''\\nosbkky\\n\""
      ]
     },
     "execution_count": 18,
     "metadata": {},
     "output_type": "execute_result"
    }
   ],
   "source": [
    "osbkky = pd.merge(osbkk,yo,on='key',how='left')\n",
    "osbkky['予約日時'] = ''\n",
    "osbkky['診療科コード'] = ''\n",
    "osbkky['診療科名'] = ''\n",
    "osbkky"
   ]
  },
  {
   "cell_type": "code",
   "execution_count": 75,
   "metadata": {
    "collapsed": false
   },
   "outputs": [
    {
     "data": {
      "text/html": [
       "<div>\n",
       "<table border=\"1\" class=\"dataframe\">\n",
       "  <thead>\n",
       "    <tr style=\"text-align: right;\">\n",
       "      <th></th>\n",
       "      <th>pt_id</th>\n",
       "      <th>pt_name</th>\n",
       "      <th>start_date</th>\n",
       "      <th>last_date</th>\n",
       "      <th>injection_period</th>\n",
       "      <th>yoho</th>\n",
       "      <th>steroid_a_day</th>\n",
       "      <th>s_sum</th>\n",
       "      <th>koshin_kacd</th>\n",
       "      <th>患者id_x</th>\n",
       "      <th>...</th>\n",
       "      <th>予約日時</th>\n",
       "      <th>予約時刻</th>\n",
       "      <th>グループコード</th>\n",
       "      <th>グループsfx</th>\n",
       "      <th>予約枠名称</th>\n",
       "      <th>診療科医師コード</th>\n",
       "      <th>診療科医師名</th>\n",
       "      <th>診療科コード</th>\n",
       "      <th>診療科名</th>\n",
       "      <th>key</th>\n",
       "    </tr>\n",
       "  </thead>\n",
       "  <tbody>\n",
       "  </tbody>\n",
       "</table>\n",
       "<p>0 rows × 35 columns</p>\n",
       "</div>"
      ],
      "text/plain": [
       "Empty DataFrame\n",
       "Columns: [pt_id, pt_name, start_date, last_date, injection_period, yoho, steroid_a_day, s_sum, koshin_kacd, 患者id_x, 最終投与日, 患者id_y, death_f, 身長cm, 体重kg, bmi割合, 患者id_x, 文書日付, 検査コード_x, 検査名称_x, 結果（数値）, 結果_y, 連番, 患者id_y, 患者氏名, 予約日時, 予約時刻, グループコード, グループsfx, 予約枠名称, 診療科医師コード, 診療科医師名, 診療科コード, 診療科名, key]\n",
       "Index: []\n",
       "\n",
       "[0 rows x 35 columns]"
      ]
     },
     "execution_count": 75,
     "metadata": {},
     "output_type": "execute_result"
    }
   ],
   "source": [
    "esibkky = pd.merge(esibkk,yo,on='key',how='left')\n",
    "esibkky['予約日時'] = ''\n",
    "esibkky['診療科コード'] = ''\n",
    "esibkky['診療科名'] = ''\n",
    "esibkky"
   ]
  },
  {
   "cell_type": "code",
   "execution_count": 19,
   "metadata": {
    "collapsed": false
   },
   "outputs": [
    {
     "data": {
      "text/plain": [
       "\"\\nsibkky = pd.merge(sibkk,yo,on='key',how='left')\\nsibkky['予約日時'] = ''\\nsibkky['診療科コード'] = ''\\nsibkky['診療科名'] = ''\\nsibkky\\n\""
      ]
     },
     "execution_count": 19,
     "metadata": {},
     "output_type": "execute_result"
    }
   ],
   "source": [
    "sibkky = pd.merge(sibkk,yo,on='key',how='left')\n",
    "sibkky['予約日時'] = ''\n",
    "sibkky['診療科コード'] = ''\n",
    "sibkky['診療科名'] = ''\n",
    "sibkky"
   ]
  },
  {
   "cell_type": "code",
   "execution_count": 77,
   "metadata": {
    "collapsed": true
   },
   "outputs": [],
   "source": [
    "vw['key'] = vw['pt_id']+vw['koshin_kacd']\n",
    "vw['key'] = vw['key'].fillna('0000000000')\n",
    "zkeys = np.unique(vw['key']).tolist()"
   ]
  },
  {
   "cell_type": "code",
   "execution_count": 78,
   "metadata": {
    "collapsed": false
   },
   "outputs": [
    {
     "data": {
      "text/plain": [
       "['0000000000',\n",
       " '1038296',\n",
       " '10816254',\n",
       " '10970320',\n",
       " '1099596',\n",
       " '11017511',\n",
       " '1114229',\n",
       " '1121196',\n",
       " '1123999',\n",
       " '1130511',\n",
       " '12115116',\n",
       " '12704316',\n",
       " '12783311',\n",
       " '1314409',\n",
       " '13167920',\n",
       " '13467831',\n",
       " '1357952',\n",
       " '13790120',\n",
       " '13825816',\n",
       " '15413056',\n",
       " '15684150',\n",
       " '1594339',\n",
       " '16044031',\n",
       " '16330911',\n",
       " '1637341',\n",
       " '16846728',\n",
       " '16906452',\n",
       " '17017850',\n",
       " '17111531',\n",
       " '17956652',\n",
       " '181639',\n",
       " '183681',\n",
       " '18373320',\n",
       " '18378452',\n",
       " '18790956',\n",
       " '18933228',\n",
       " '19179541',\n",
       " '1970450',\n",
       " '20267311',\n",
       " '2055759',\n",
       " '2092871',\n",
       " '20928711',\n",
       " '21045528',\n",
       " '21085411',\n",
       " '21094341',\n",
       " '21353552',\n",
       " '2140741',\n",
       " '21679811',\n",
       " '21876611',\n",
       " '21930450',\n",
       " '22061211',\n",
       " '2209226',\n",
       " '22219416',\n",
       " '2239011',\n",
       " '2258641',\n",
       " '2268409',\n",
       " '22903216',\n",
       " '22945828',\n",
       " '23452447',\n",
       " '24029011',\n",
       " '2417331',\n",
       " '24983131',\n",
       " '25191731',\n",
       " '25396152',\n",
       " '2544526',\n",
       " '2546066',\n",
       " '2596679',\n",
       " '25991811',\n",
       " '26180756',\n",
       " '2630369',\n",
       " '26318411',\n",
       " '26420220',\n",
       " '2661086',\n",
       " '26730947',\n",
       " '26790258',\n",
       " '26821616',\n",
       " '27115231',\n",
       " '27206020',\n",
       " '27447052',\n",
       " '2748106',\n",
       " '2778609',\n",
       " '2836311',\n",
       " '286659',\n",
       " '28716431',\n",
       " '2871646',\n",
       " '28838150',\n",
       " '2884350',\n",
       " '28917516',\n",
       " '2893026',\n",
       " '28940016',\n",
       " '29005016',\n",
       " '29693752',\n",
       " '30057847',\n",
       " '3016216',\n",
       " '302361',\n",
       " '30287211',\n",
       " '3030629',\n",
       " '30395028',\n",
       " '3041411',\n",
       " '3063556',\n",
       " '30890131',\n",
       " '31162658',\n",
       " '3119366',\n",
       " '31555911',\n",
       " '31650416',\n",
       " '31770550',\n",
       " '3185916',\n",
       " '31936811',\n",
       " '3197756',\n",
       " '32175316',\n",
       " '32275016',\n",
       " '32281416',\n",
       " '32343820',\n",
       " '3239429',\n",
       " '3264536',\n",
       " '32663166',\n",
       " '32915131',\n",
       " '3298150',\n",
       " '33037047',\n",
       " '33183016',\n",
       " '33248820',\n",
       " '33313111',\n",
       " '33629711',\n",
       " '33736641',\n",
       " '3374129',\n",
       " '3401166',\n",
       " '34055356',\n",
       " '340883',\n",
       " '34152552',\n",
       " '34207652',\n",
       " '34271856',\n",
       " '3452511',\n",
       " '345509',\n",
       " '34623320',\n",
       " '34790616',\n",
       " '3491434',\n",
       " '34979828',\n",
       " '35005211',\n",
       " '35016847',\n",
       " '35027356',\n",
       " '35096628',\n",
       " '35109166',\n",
       " '35231441',\n",
       " '35250141',\n",
       " '35273020',\n",
       " '35273056',\n",
       " '35284556',\n",
       " '35312456',\n",
       " '35322128',\n",
       " '3540916',\n",
       " '3543336',\n",
       " '35470841',\n",
       " '3655252',\n",
       " '3796611',\n",
       " '4047952',\n",
       " '4502150',\n",
       " '4886156',\n",
       " '4956511',\n",
       " '5401111',\n",
       " '5413511',\n",
       " '584081',\n",
       " '603561',\n",
       " '606156',\n",
       " '6144128',\n",
       " '6573128',\n",
       " '697796',\n",
       " '7011411',\n",
       " '7272911',\n",
       " '7315611',\n",
       " '7315616',\n",
       " '7334211',\n",
       " '7776311',\n",
       " '778444',\n",
       " '7812311',\n",
       " '794816',\n",
       " '8176150',\n",
       " '8290252',\n",
       " '8334852',\n",
       " '8422128',\n",
       " '8542116',\n",
       " '8561811',\n",
       " '8803016',\n",
       " '8849841',\n",
       " '9076031',\n",
       " '908086',\n",
       " '9182166',\n",
       " '9296756',\n",
       " '9504450',\n",
       " '9535450',\n",
       " '9579611']"
      ]
     },
     "execution_count": 78,
     "metadata": {},
     "output_type": "execute_result"
    }
   ],
   "source": [
    "zkeys"
   ]
  },
  {
   "cell_type": "code",
   "execution_count": 79,
   "metadata": {
    "collapsed": true
   },
   "outputs": [],
   "source": [
    "# dfx = osbkky,esibkky,sibkky\n",
    "# dfy = yo\n",
    "def xyoyaku(dfx,dfy):\n",
    "    if len(dfx) > 0:\n",
    "        for k in zkeys:\n",
    "            dfy_k = dfy[dfy['key']==k]\n",
    "            k_min = dfy_k[dfy_k['予約日時']==dfy_k['予約日時'].min()].drop_duplicates('予約日時')\n",
    "            for i in dfx.index:\n",
    "                if dfx.loc[i,'key'] == k:\n",
    "                    try:\n",
    "                        dfx.loc[i,'予約日時'] = k_min['予約日時'].iloc[0]\n",
    "                        dfx.loc[i,'診療科コード'] = k_min['診療科コード'].iloc[0]\n",
    "                        dfx.loc[i,'診療科名'] = k_min['診療科名'].iloc[0]\n",
    "                    except:\n",
    "                        dfx.loc[i,'予約日時'] = ''\n",
    "                        dfx.loc[i,'診療科コード'] = ''\n",
    "                        dfx.loc[i,'診療科名'] = ''\n",
    "                elif dfx.loc[i,'key'] != k:\n",
    "                    if dfx.loc[i,'pt_id'] == k[-2:]:\n",
    "                        try:\n",
    "                            dfx.loc[i,'予約日時'] = k_min['予約日時'].iloc[0]\n",
    "                            dfx.loc[i,'診療科コード'] = k_min['診療科コード'].iloc[0]\n",
    "                            dfx.loc[i,'診療科名'] = k_min['診療科名'].iloc[0]\n",
    "                        except:\n",
    "                            dfx.loc[i,'予約日時'] = ''\n",
    "                            dfx.loc[i,'診療科コード'] = ''\n",
    "                            dfx.loc[i,'診療科名'] = ''\n",
    "                    else:\n",
    "                        pass\n",
    "                else:\n",
    "                    pass\n",
    "    elif len(dfx) == 0:\n",
    "        pass\n",
    "    else:\n",
    "        pass"
   ]
  },
  {
   "cell_type": "code",
   "execution_count": 80,
   "metadata": {
    "collapsed": true
   },
   "outputs": [],
   "source": [
    "xyoyaku(osbkky,yo)"
   ]
  },
  {
   "cell_type": "code",
   "execution_count": 20,
   "metadata": {
    "collapsed": false
   },
   "outputs": [],
   "source": [
    "osbkky"
   ]
  },
  {
   "cell_type": "code",
   "execution_count": 82,
   "metadata": {
    "collapsed": true
   },
   "outputs": [],
   "source": [
    "xyoyaku(esibkky,yo)"
   ]
  },
  {
   "cell_type": "code",
   "execution_count": 83,
   "metadata": {
    "collapsed": false
   },
   "outputs": [
    {
     "data": {
      "text/html": [
       "<div>\n",
       "<table border=\"1\" class=\"dataframe\">\n",
       "  <thead>\n",
       "    <tr style=\"text-align: right;\">\n",
       "      <th></th>\n",
       "      <th>pt_id</th>\n",
       "      <th>pt_name</th>\n",
       "      <th>start_date</th>\n",
       "      <th>last_date</th>\n",
       "      <th>injection_period</th>\n",
       "      <th>yoho</th>\n",
       "      <th>steroid_a_day</th>\n",
       "      <th>s_sum</th>\n",
       "      <th>koshin_kacd</th>\n",
       "      <th>患者id_x</th>\n",
       "      <th>...</th>\n",
       "      <th>予約日時</th>\n",
       "      <th>予約時刻</th>\n",
       "      <th>グループコード</th>\n",
       "      <th>グループsfx</th>\n",
       "      <th>予約枠名称</th>\n",
       "      <th>診療科医師コード</th>\n",
       "      <th>診療科医師名</th>\n",
       "      <th>診療科コード</th>\n",
       "      <th>診療科名</th>\n",
       "      <th>key</th>\n",
       "    </tr>\n",
       "  </thead>\n",
       "  <tbody>\n",
       "  </tbody>\n",
       "</table>\n",
       "<p>0 rows × 35 columns</p>\n",
       "</div>"
      ],
      "text/plain": [
       "Empty DataFrame\n",
       "Columns: [pt_id, pt_name, start_date, last_date, injection_period, yoho, steroid_a_day, s_sum, koshin_kacd, 患者id_x, 最終投与日, 患者id_y, death_f, 身長cm, 体重kg, bmi割合, 患者id_x, 文書日付, 検査コード_x, 検査名称_x, 結果（数値）, 結果_y, 連番, 患者id_y, 患者氏名, 予約日時, 予約時刻, グループコード, グループsfx, 予約枠名称, 診療科医師コード, 診療科医師名, 診療科コード, 診療科名, key]\n",
       "Index: []\n",
       "\n",
       "[0 rows x 35 columns]"
      ]
     },
     "execution_count": 83,
     "metadata": {},
     "output_type": "execute_result"
    }
   ],
   "source": [
    "esibkky"
   ]
  },
  {
   "cell_type": "code",
   "execution_count": 84,
   "metadata": {
    "collapsed": true
   },
   "outputs": [],
   "source": [
    "xyoyaku(sibkky,yo)"
   ]
  },
  {
   "cell_type": "code",
   "execution_count": 21,
   "metadata": {
    "collapsed": false
   },
   "outputs": [],
   "source": [
    "sibkky"
   ]
  },
  {
   "cell_type": "code",
   "execution_count": 86,
   "metadata": {
    "collapsed": true
   },
   "outputs": [],
   "source": [
    "#osbkky.to_excel('func_test_osbkky_201610171222.xlsx')\n",
    "#esibkky.to_excel('func_test_esibkky_201610171222.xlsx')\n",
    "#sibkky.to_excel('func_test_sibkky_201610171222.xlsx')"
   ]
  },
  {
   "cell_type": "code",
   "execution_count": 87,
   "metadata": {
    "collapsed": true
   },
   "outputs": [],
   "source": [
    "# *******************(以上作業中・・作業完了2016.10.17)***********************"
   ]
  },
  {
   "cell_type": "code",
   "execution_count": 88,
   "metadata": {
    "collapsed": false
   },
   "outputs": [],
   "source": [
    "#osbkky = pd.merge(osbkk,yo,left_on=['pt_id','koshin_kacd'],right_on=['患者id','診療科コード'],how='left')\n",
    "#esibkky = pd.merge(esibkk,yo,left_on=['pt_id','koshin_kacd'],right_on=['患者id','診療科コード'],how='left')\n",
    "#sibkky = pd.merge(sibkk,yo,left_on=['pt_id','koshin_kacd'],right_on=['患者id','診療科コード'],how='left')"
   ]
  },
  {
   "cell_type": "code",
   "execution_count": 89,
   "metadata": {
    "collapsed": true
   },
   "outputs": [],
   "source": [
    "#osbkky.to_excel('osbkky.xlsx')"
   ]
  },
  {
   "cell_type": "code",
   "execution_count": 90,
   "metadata": {
    "collapsed": true
   },
   "outputs": [],
   "source": [
    "#esibkky.to_excel('esibkky.xlsx')"
   ]
  },
  {
   "cell_type": "code",
   "execution_count": 91,
   "metadata": {
    "collapsed": true
   },
   "outputs": [],
   "source": [
    "#sibkky.to_excel('sibkky.xlsx')"
   ]
  },
  {
   "cell_type": "code",
   "execution_count": 92,
   "metadata": {
    "collapsed": false
   },
   "outputs": [
    {
     "name": "stdout",
     "output_type": "stream",
     "text": [
      "(220, 33) (0, 35) (68, 35)\n"
     ]
    }
   ],
   "source": [
    "print(osbkky.shape,esibkky.shape,sibkky.shape)"
   ]
  },
  {
   "cell_type": "code",
   "execution_count": 22,
   "metadata": {
    "collapsed": false
   },
   "outputs": [],
   "source": [
    "osbkky.head(2)"
   ]
  },
  {
   "cell_type": "code",
   "execution_count": 94,
   "metadata": {
    "collapsed": false
   },
   "outputs": [],
   "source": [
    "ka = ka[['kacd','kaname']]"
   ]
  },
  {
   "cell_type": "code",
   "execution_count": 95,
   "metadata": {
    "collapsed": false
   },
   "outputs": [],
   "source": [
    "osbkkyk = pd.merge(osbkky,ka,left_on='koshin_kacd',right_on='kacd',how='left')\n",
    "esibkkyk = pd.merge(esibkky,ka,left_on='koshin_kacd',right_on='kacd',how='left')\n",
    "sibkkyk = pd.merge(sibkky,ka,left_on='koshin_kacd',right_on='kacd',how='left')"
   ]
  },
  {
   "cell_type": "code",
   "execution_count": 96,
   "metadata": {
    "collapsed": false
   },
   "outputs": [
    {
     "name": "stdout",
     "output_type": "stream",
     "text": [
      "(220, 35) (0, 37) (68, 37)\n"
     ]
    }
   ],
   "source": [
    "print(osbkkyk.shape,esibkkyk.shape,sibkkyk.shape)"
   ]
  },
  {
   "cell_type": "code",
   "execution_count": 97,
   "metadata": {
    "collapsed": true
   },
   "outputs": [],
   "source": [
    "# Qery 0\n",
    "\n",
    "# No conditions\n",
    "\n",
    "osbkkyk.to_excel('qOS0_mod_%s.xlsx'%e)\n",
    "esibkkyk.to_excel('qESI0_mod_%s.xlsx'%e)\n",
    "sibkkyk.to_excel('qSI0_mod_%s.xlsx'%e)"
   ]
  },
  {
   "cell_type": "code",
   "execution_count": 98,
   "metadata": {
    "collapsed": false
   },
   "outputs": [],
   "source": [
    "# Qery 1\n",
    "\n",
    "# hbs抗原_検査日 is null\n",
    "\n",
    "list1a = osbkkyk[osbkkyk['検査コード_x']=='2010101']['pt_id'].tolist()\n",
    "osbkkyk[~osbkkyk['pt_id'].isin(list1a)].to_excel('qOS1_mod_%s.xlsx'%e)\n",
    "\n",
    "list1b = esibkkyk[esibkkyk['検査コード_x']=='2010101']['pt_id'].tolist()\n",
    "esibkkyk[~esibkkyk['pt_id'].isin(list1b)].to_excel('qESI1_mod_%s.xlsx'%e)\n",
    "\n",
    "list1c = sibkkyk[sibkkyk['検査コード_x']=='2010101']['pt_id'].tolist()\n",
    "sibkkyk[~sibkkyk['pt_id'].isin(list1c)].to_excel('qSI1_mod_%s.xlsx'%e)"
   ]
  },
  {
   "cell_type": "code",
   "execution_count": 99,
   "metadata": {
    "collapsed": false
   },
   "outputs": [],
   "source": [
    "# Query 2\n",
    "\n",
    "# hbs抗原_結果 = '(+)'\n",
    "# OR \n",
    "# hbv_dna_結果 = '(+)'\n",
    "\n",
    "list2a = osbkkyk[\\\n",
    "(((osbkkyk['検査コード_x']=='2010101')&(osbkkyk['結果_y']=='(+)'))|\\\n",
    " ((osbkkyk['検査コード_x']=='2010101')&(osbkkyk['結果_y']=='ｹﾝｻﾁｭｳ')))|\\\n",
    "(((osbkkyk['検査コード_x'].isin(cd))&(osbkkyk['結果_y']=='(+)'))|\\\n",
    " ((osbkkyk['検査コード_x'].isin(cd))&(osbkkyk['結果_y']=='ｹﾝｻﾁｭｳ')))]['pt_id'].tolist()\n",
    "osbkkyk[osbkkyk['pt_id'].isin(list2a)].to_excel('qOS2_mod_%s.xlsx'%e)\n",
    "\n",
    "list2b = esibkkyk[\\\n",
    "(((esibkkyk['検査コード_x']=='2010101')&(esibkkyk['結果_y']=='(+)'))|\\\n",
    " ((esibkkyk['検査コード_x']=='2010101')&(esibkkyk['結果_y']=='ｹﾝｻﾁｭｳ')))|\\\n",
    "(((esibkkyk['検査コード_x'].isin(cd))&(esibkkyk['結果_y']=='(+)'))|\\\n",
    " ((esibkkyk['検査コード_x'].isin(cd))&(esibkkyk['結果_y']=='ｹﾝｻﾁｭｳ')))]['pt_id'].tolist()\n",
    "esibkkyk[esibkkyk['pt_id'].isin(list2b)].to_excel('qESI2_mod_%s.xlsx'%e)\n",
    "\n",
    "list2c = sibkkyk[\\\n",
    "(((sibkkyk['検査コード_x']=='2010101')&(sibkkyk['結果_y']=='(+)'))|\\\n",
    " ((sibkkyk['検査コード_x']=='2010101')&(sibkkyk['結果_y']=='ｹﾝｻﾁｭｳ')))|\\\n",
    "(((sibkkyk['検査コード_x'].isin(cd))&(sibkkyk['結果_y']=='(+)'))|\\\n",
    " ((sibkkyk['検査コード_x'].isin(cd))&(sibkkyk['結果_y']=='ｹﾝｻﾁｭｳ')))]['pt_id'].tolist()\n",
    "sibkkyk[sibkkyk['pt_id'].isin(list2c)].to_excel('qSI2_mod_%s.xlsx'%e)"
   ]
  },
  {
   "cell_type": "code",
   "execution_count": 100,
   "metadata": {
    "collapsed": false
   },
   "outputs": [],
   "source": [
    "# Query 3-1\n",
    "\n",
    "# (hbc抗体_結果 = '(+)' OR hbs抗体_結果 = '(+)')\n",
    "# AND \n",
    "# hbv_dna_検査日 IS NULL\n",
    "\n",
    "list31ax = osbkkyk[\\\n",
    "(((osbkkyk['検査コード_x']=='2011401')&(osbkkyk['結果_y']=='(+)'))|\\\n",
    " ((osbkkyk['検査コード_x']=='2011401')&(osbkkyk['結果_y']=='ｹﾝｻﾁｭｳ')))|\\\n",
    "(((osbkkyk['検査コード_x']=='2010201')&(osbkkyk['結果_y']=='(+)'))|\\\n",
    " ((osbkkyk['検査コード_x']=='2010201')&(osbkkyk['結果_y']=='ｹﾝｻﾁｭｳ')))]['pt_id'].tolist()\n",
    "list31ay = osbkkyk[osbkkyk['検査コード_x'].isin(cd)]['pt_id'].tolist()\n",
    "tmp31a = osbkkyk[osbkkyk['pt_id'].isin(list31ax)]\n",
    "tmp31a[~tmp31a['pt_id'].isin(list31ay)].to_excel('qOS31_mod_%s.xlsx'%e)\n",
    "\n",
    "list31bx = esibkkyk[\\\n",
    "(((esibkkyk['検査コード_x']=='2011401')&(esibkkyk['結果_y']=='(+)'))|\\\n",
    " ((esibkkyk['検査コード_x']=='2011401')&(esibkkyk['結果_y']=='ｹﾝｻﾁｭｳ')))|\\\n",
    "(((esibkkyk['検査コード_x']=='2010201')&(esibkkyk['結果_y']=='(+)'))|\\\n",
    " ((esibkkyk['検査コード_x']=='2010201')&(esibkkyk['結果_y']=='ｹﾝｻﾁｭｳ')))]['pt_id'].tolist()\n",
    "list31by = esibkkyk[esibkkyk['検査コード_x'].isin(cd)]['pt_id'].tolist()\n",
    "tmp31b = esibkkyk[esibkkyk['pt_id'].isin(list31bx)]\n",
    "tmp31b[~tmp31b['pt_id'].isin(list31by)].to_excel('qESI31_mod_%s.xlsx'%e)\n",
    "\n",
    "list31cx = sibkkyk[\\\n",
    "(((sibkkyk['検査コード_x']=='2011401')&(sibkkyk['結果_y']=='(+)'))|\\\n",
    " ((sibkkyk['検査コード_x']=='2011401')&(sibkkyk['結果_y']=='ｹﾝｻﾁｭｳ')))|\\\n",
    "(((sibkkyk['検査コード_x']=='2010201')&(sibkkyk['結果_y']=='(+)'))|\\\n",
    " ((sibkkyk['検査コード_x']=='2010201')&(sibkkyk['結果_y']=='ｹﾝｻﾁｭｳ')))]['pt_id'].tolist()\n",
    "list31cy = sibkkyk[sibkkyk['検査コード_x'].isin(cd)]['pt_id'].tolist()\n",
    "tmp31c = sibkkyk[sibkkyk['pt_id'].isin(list31cx)]\n",
    "tmp31c[~tmp31c['pt_id'].isin(list31cy)].to_excel('qSI31_mod_%s.xlsx'%e)"
   ]
  },
  {
   "cell_type": "code",
   "execution_count": 101,
   "metadata": {
    "collapsed": true
   },
   "outputs": [],
   "source": [
    "# Query 3-2\n",
    "\n",
    "# (hbc抗体_結果 = '(+)' OR hbs抗体_結果 = '(+)') \n",
    "# AND\n",
    "# hbv_dna_結果 = '(-)'\n",
    "\n",
    "list32ax = osbkkyk[\\\n",
    "(((osbkkyk['検査コード_x']=='2011401')&(osbkkyk['結果_y']=='(+)'))|\\\n",
    " ((osbkkyk['検査コード_x']=='2011401')&(osbkkyk['結果_y']=='ｹﾝｻﾁｭｳ')))|\\\n",
    "(((osbkkyk['検査コード_x']=='2010201')&(osbkkyk['結果_y']=='(+)'))|\\\n",
    " ((osbkkyk['検査コード_x']=='2010201')&(osbkkyk['結果_y']=='ｹﾝｻﾁｭｳ')))]['pt_id'].tolist()\n",
    "list32ay = osbkkyk[(osbkkyk['検査コード_x'].isin(cd))&(osbkkyk['結果_y']=='(-)')]['pt_id'].tolist()\n",
    "tmp32a = osbkkyk[osbkkyk['pt_id'].isin(list32ax)]\n",
    "tmp32a[tmp32a['pt_id'].isin(list32ay)].to_excel('qOS32_mod_%s.xlsx'%e)\n",
    "\n",
    "list32bx = esibkkyk[\\\n",
    "(((esibkkyk['検査コード_x']=='2011401')&(esibkkyk['結果_y']=='(+)'))|\\\n",
    " ((esibkkyk['検査コード_x']=='2011401')&(esibkkyk['結果_y']=='ｹﾝｻﾁｭｳ')))|\\\n",
    "(((esibkkyk['検査コード_x']=='2010201')&(esibkkyk['結果_y']=='(+)'))|\\\n",
    " ((esibkkyk['検査コード_x']=='2010201')&(esibkkyk['結果_y']=='ｹﾝｻﾁｭｳ')))]['pt_id'].tolist()\n",
    "list32by = esibkkyk[(esibkkyk['検査コード_x'].isin(cd))&(esibkkyk['結果_y']=='(-)')]['pt_id'].tolist()\n",
    "tmp32b = esibkkyk[esibkkyk['pt_id'].isin(list32bx)]\n",
    "tmp32b[tmp32b['pt_id'].isin(list32by)].to_excel('qESI32_mod_%s.xlsx'%e)\n",
    "\n",
    "list32cx = sibkkyk[\\\n",
    "(((sibkkyk['検査コード_x']=='2011401')&(sibkkyk['結果_y']=='(+)'))|\\\n",
    " ((sibkkyk['検査コード_x']=='2011401')&(sibkkyk['結果_y']=='ｹﾝｻﾁｭｳ')))|\\\n",
    "(((sibkkyk['検査コード_x']=='2010201')&(sibkkyk['結果_y']=='(+)'))|\\\n",
    " ((sibkkyk['検査コード_x']=='2010201')&(sibkkyk['結果_y']=='ｹﾝｻﾁｭｳ')))]['pt_id'].tolist()\n",
    "list32cy = sibkkyk[(sibkkyk['検査コード_x'].isin(cd))&(sibkkyk['結果_y']=='(-)')]['pt_id'].tolist()\n",
    "tmp32c = sibkkyk[sibkkyk['pt_id'].isin(list32cx)]\n",
    "tmp32c[tmp32c['pt_id'].isin(list32cy)].to_excel('qSI32_mod_%s.xlsx'%e)"
   ]
  },
  {
   "cell_type": "code",
   "execution_count": 102,
   "metadata": {
    "collapsed": false
   },
   "outputs": [],
   "source": [
    "# Query 4\n",
    "\n",
    "# hbs抗原_結果 = '(-)' \n",
    "# AND \n",
    "# (hbc抗体_検査日 IS NULL OR hbs抗体_検査日 IS NULL)\n",
    "\n",
    "list4ax = osbkkyk[(osbkkyk['検査コード_x']=='2010101')&(osbkkyk['結果_y']=='(-)')]['pt_id'].tolist()\n",
    "list4ay = osbkkyk[(osbkkyk['検査コード_x']=='2011401')|(osbkkyk['検査コード_x']=='2010201')]['pt_id'].tolist()\n",
    "tmp4a = osbkkyk[osbkkyk['pt_id'].isin(list4ax)]\n",
    "tmp4a[~tmp4a['pt_id'].isin(list4ay)].to_excel('qOS4_mod_%s.xlsx'%e)\n",
    "\n",
    "list4bx = esibkkyk[(esibkkyk['検査コード_x']=='2010101')&(esibkkyk['結果_y']=='(-)')]['pt_id'].tolist()\n",
    "list4by = esibkkyk[(esibkkyk['検査コード_x']=='2011401')|(esibkkyk['検査コード_x']=='2010201')]['pt_id'].tolist()\n",
    "tmp4b = esibkkyk[esibkkyk['pt_id'].isin(list4bx)]\n",
    "tmp4b[~tmp4b['pt_id'].isin(list4by)].to_excel('qESI4_mod_%s.xlsx'%e)\n",
    "\n",
    "list4cx = sibkkyk[(sibkkyk['検査コード_x']=='2010101')&(sibkkyk['結果_y']=='(-)')]['pt_id'].tolist()\n",
    "list4cy = sibkkyk[(sibkkyk['検査コード_x']=='2011401')|(sibkkyk['検査コード_x']=='2010201')]['pt_id'].tolist()\n",
    "tmp4c = sibkkyk[sibkkyk['pt_id'].isin(list4cx)]\n",
    "tmp4c[~tmp4c['pt_id'].isin(list4cy)].to_excel('qSI4_mod_%s.xlsx'%e)"
   ]
  },
  {
   "cell_type": "code",
   "execution_count": null,
   "metadata": {
    "collapsed": true
   },
   "outputs": [],
   "source": []
  }
 ],
 "metadata": {
  "kernelspec": {
   "display_name": "Python 3",
   "language": "python",
   "name": "python3"
  },
  "language_info": {
   "codemirror_mode": {
    "name": "ipython",
    "version": 3
   },
   "file_extension": ".py",
   "mimetype": "text/x-python",
   "name": "python",
   "nbconvert_exporter": "python",
   "pygments_lexer": "ipython3",
   "version": "3.4.3"
  }
 },
 "nbformat": 4,
 "nbformat_minor": 0
}
