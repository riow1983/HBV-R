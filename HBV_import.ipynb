{
 "cells": [
  {
   "cell_type": "code",
   "execution_count": 1,
   "metadata": {
    "collapsed": true
   },
   "outputs": [],
   "source": [
    "import psycopg2 as pg\n",
    "\n",
    "import pandas.io.sql as psql\n",
    "\n",
    "import pandas as pd\n",
    "\n",
    "import datetime"
   ]
  },
  {
   "cell_type": "code",
   "execution_count": 2,
   "metadata": {
    "collapsed": true
   },
   "outputs": [],
   "source": [
    "with pg.connect(database='uonuma_kikan',user='postgres',host='localhost',port=5432,password=12345) as conn:\n",
    "    sql = 'SELECT * FROM yaku_hbv;'\n",
    "    df1 = psql.read_sql(sql,conn)"
   ]
  },
  {
   "cell_type": "code",
   "execution_count": 3,
   "metadata": {
    "collapsed": true
   },
   "outputs": [],
   "source": [
    "with pg.connect(database='uonuma_kikan',user='postgres',host='localhost',port=5432,password=12345) as conn:\n",
    "    sql = 'SELECT * FROM baraclude;'\n",
    "    df2 = psql.read_sql(sql,conn)"
   ]
  },
  {
   "cell_type": "code",
   "execution_count": 4,
   "metadata": {
    "collapsed": true
   },
   "outputs": [],
   "source": [
    "# kenreki\n",
    "with pg.connect(database='uonuma_kikan',user='postgres',host='localhost',port=5432,password=12345) as conn:\n",
    "    sql = 'SELECT * FROM kenreki;'\n",
    "    df3 = psql.read_sql(sql,conn)"
   ]
  },
  {
   "cell_type": "code",
   "execution_count": 5,
   "metadata": {
    "collapsed": true
   },
   "outputs": [],
   "source": [
    "#with pg.connect(database='uonuma_kikan',user='postgres',host='localhost',port=5432,password=12345) as conn:\n",
    "#    sql = 'SELECT * FROM kekka;'\n",
    "#    df3 = psql.read_sql(sql,conn)"
   ]
  },
  {
   "cell_type": "code",
   "execution_count": 6,
   "metadata": {
    "collapsed": true
   },
   "outputs": [],
   "source": [
    "#with pg.connect(database='uonuma_kikan',user='postgres',host='localhost',port=5432,password=12345) as conn:\n",
    "#    sql = 'SELECT * FROM yoyaku;'\n",
    "#    df4 = psql.read_sql(sql,conn)"
   ]
  },
  {
   "cell_type": "code",
   "execution_count": 7,
   "metadata": {
    "collapsed": false
   },
   "outputs": [],
   "source": [
    "id1 = len(df1)\n",
    "id2 = len(df2)\n",
    "id3 = len(df3)"
   ]
  },
  {
   "cell_type": "code",
   "execution_count": 8,
   "metadata": {
    "collapsed": false
   },
   "outputs": [
    {
     "data": {
      "text/plain": [
       "18881"
      ]
     },
     "execution_count": 8,
     "metadata": {},
     "output_type": "execute_result"
    }
   ],
   "source": [
    "id1"
   ]
  },
  {
   "cell_type": "code",
   "execution_count": 9,
   "metadata": {
    "collapsed": false
   },
   "outputs": [
    {
     "data": {
      "text/plain": [
       "202"
      ]
     },
     "execution_count": 9,
     "metadata": {},
     "output_type": "execute_result"
    }
   ],
   "source": [
    "id2"
   ]
  },
  {
   "cell_type": "code",
   "execution_count": 10,
   "metadata": {
    "collapsed": false
   },
   "outputs": [
    {
     "data": {
      "text/plain": [
       "11481"
      ]
     },
     "execution_count": 10,
     "metadata": {},
     "output_type": "execute_result"
    }
   ],
   "source": [
    "id3"
   ]
  },
  {
   "cell_type": "code",
   "execution_count": 11,
   "metadata": {
    "collapsed": false
   },
   "outputs": [
    {
     "name": "stdout",
     "output_type": "stream",
     "text": [
      "C:\\import\n"
     ]
    }
   ],
   "source": [
    "%cd C:\\import"
   ]
  },
  {
   "cell_type": "code",
   "execution_count": 12,
   "metadata": {
    "collapsed": false
   },
   "outputs": [
    {
     "name": "stdout",
     "output_type": "stream",
     "text": [
      " ドライブ C のボリューム ラベルがありません。\n",
      " ボリューム シリアル番号は 02F6-EB77 です\n",
      "\n",
      " C:\\import のディレクトリ\n",
      "\n",
      "2016/11/15  15:54    <DIR>          .\n",
      "2016/11/15  15:54    <DIR>          ..\n",
      "2016/11/15  14:49         1,090,026 idwh_20160404_1737_158008_PtBirthDate.xlsx\n",
      "2016/11/15  13:10    <DIR>          old\n",
      "2016/11/15  14:50         4,914,451 sdwh_20150916_1759_158008_kekka.xlsx\n",
      "2016/11/15  14:52         1,207,902 sdwh_20150916_1954_158008_yoyaku.xlsx\n",
      "2016/11/15  14:53             9,799 sdwh_20150916_2159_158008_baraclude.xlsx\n",
      "2016/11/15  14:54            33,294 sdwh_20150916_2159_158008_処方オーダー数量_HBV.xlsx\n",
      "2016/11/15  15:02            39,692 sdwh_20150916_2202_158008_注射オーダー数量_HBV.xlsx\n",
      "2016/11/15  15:03            32,112 sdwh_20160727_1218_158008_kenreki.xlsx\n",
      "2016/06/06  21:09    <DIR>          work\n",
      "               7 個のファイル           7,327,276 バイト\n",
      "               4 個のディレクトリ  403,327,844,352 バイトの空き領域\n"
     ]
    }
   ],
   "source": [
    "%ls"
   ]
  },
  {
   "cell_type": "code",
   "execution_count": 13,
   "metadata": {
    "collapsed": false
   },
   "outputs": [],
   "source": [
    "# kenreki\n",
    "rk = pd.read_excel('sdwh_20160727_1218_158008_kenreki.xlsx')"
   ]
  },
  {
   "cell_type": "code",
   "execution_count": 14,
   "metadata": {
    "collapsed": true
   },
   "outputs": [],
   "source": [
    "def HBeAng(dx):\n",
    "    for x in dx.index:\n",
    "        if (dx.loc[x,'検査コード']==2010701)&(dx.loc[x,'検査名称']=='Ｓ／ＣＯ'):\n",
    "            dx.loc[x,'検査名称']='ＨＢｅ抗原'\n",
    "        elif (dx.loc[x,'検査コード']==2011401)&(dx.loc[x,'検査名称']=='Ｓ／ＣＯ'):\n",
    "            dx.loc[x,'検査名称']='ＨＢｃ抗体'\n",
    "        else:\n",
    "            pass"
   ]
  },
  {
   "cell_type": "code",
   "execution_count": 15,
   "metadata": {
    "collapsed": false
   },
   "outputs": [],
   "source": [
    "HBeAng(rk)"
   ]
  },
  {
   "cell_type": "code",
   "execution_count": 16,
   "metadata": {
    "collapsed": false
   },
   "outputs": [],
   "source": [
    "rk['key'] = rk['文書日付_D']+' '+rk['患者ＩＤ'].apply(lambda x:str(x))+' '+rk['検査名称'].apply(lambda x:x[:5])"
   ]
  },
  {
   "cell_type": "code",
   "execution_count": 17,
   "metadata": {
    "collapsed": true
   },
   "outputs": [],
   "source": [
    "teisei = [2010100,2010200,2011400,2012001,2010702,2010802,2011601,2011701]\n",
    "teiryo = [2010101,2010201,2011401,2012000,2010701,2010801,2011600,2011700]\n",
    "# 2011600 has both sides of character, qualitative and quantitative.\n",
    "# On 16 Nov, 2016 we added '2011701' in teisei and '2011700' in teiryo."
   ]
  },
  {
   "cell_type": "code",
   "execution_count": 18,
   "metadata": {
    "collapsed": false
   },
   "outputs": [],
   "source": [
    "rk1 = rk[rk['検査コード'].isin(teisei)]"
   ]
  },
  {
   "cell_type": "code",
   "execution_count": 19,
   "metadata": {
    "collapsed": false
   },
   "outputs": [],
   "source": [
    "rk2 = rk[rk['検査コード'].isin(teiryo)]"
   ]
  },
  {
   "cell_type": "code",
   "execution_count": 20,
   "metadata": {
    "collapsed": false
   },
   "outputs": [],
   "source": [
    "rk1_ = rk1[['key','検査コード','検査名称','結果']]"
   ]
  },
  {
   "cell_type": "code",
   "execution_count": 21,
   "metadata": {
    "collapsed": false
   },
   "outputs": [
    {
     "data": {
      "text/plain": [
       "(296, 4)"
      ]
     },
     "execution_count": 21,
     "metadata": {},
     "output_type": "execute_result"
    }
   ],
   "source": [
    "rk1_.shape"
   ]
  },
  {
   "cell_type": "code",
   "execution_count": 22,
   "metadata": {
    "collapsed": false
   },
   "outputs": [],
   "source": [
    "rk2_ = rk2[['患者ＩＤ', '文書日付_D', '伝票名称', '検査コード', '検査名称', '結果','結果(数値)', 'key']]"
   ]
  },
  {
   "cell_type": "code",
   "execution_count": 23,
   "metadata": {
    "collapsed": false
   },
   "outputs": [
    {
     "data": {
      "text/plain": [
       "(296, 8)"
      ]
     },
     "execution_count": 23,
     "metadata": {},
     "output_type": "execute_result"
    }
   ],
   "source": [
    "rk2_.shape"
   ]
  },
  {
   "cell_type": "code",
   "execution_count": 24,
   "metadata": {
    "collapsed": false
   },
   "outputs": [],
   "source": [
    "rkc = pd.merge(rk2_,rk1_,on='key',how='left')"
   ]
  },
  {
   "cell_type": "code",
   "execution_count": 25,
   "metadata": {
    "collapsed": false
   },
   "outputs": [
    {
     "data": {
      "text/plain": [
       "(296, 11)"
      ]
     },
     "execution_count": 25,
     "metadata": {},
     "output_type": "execute_result"
    }
   ],
   "source": [
    "rkc.shape"
   ]
  },
  {
   "cell_type": "code",
   "execution_count": 26,
   "metadata": {
    "collapsed": false
   },
   "outputs": [],
   "source": [
    "rkc.sort_values('文書日付_D',inplace=True)"
   ]
  },
  {
   "cell_type": "code",
   "execution_count": 27,
   "metadata": {
    "collapsed": false
   },
   "outputs": [],
   "source": [
    "rkc['文書日付'] = pd.to_datetime(rkc['文書日付_D'])"
   ]
  },
  {
   "cell_type": "code",
   "execution_count": 28,
   "metadata": {
    "collapsed": false
   },
   "outputs": [],
   "source": [
    "rkc['文書日付'] = rkc['文書日付'].apply(lambda x:x.date())"
   ]
  },
  {
   "cell_type": "code",
   "execution_count": 29,
   "metadata": {
    "collapsed": false
   },
   "outputs": [],
   "source": [
    "rkc.reset_index(inplace=True)"
   ]
  },
  {
   "cell_type": "code",
   "execution_count": 30,
   "metadata": {
    "collapsed": false
   },
   "outputs": [],
   "source": [
    "df1_a = pd.read_excel('sdwh_20150916_2159_158008_処方オーダー数量_HBV.xlsx')"
   ]
  },
  {
   "cell_type": "code",
   "execution_count": 31,
   "metadata": {
    "collapsed": true
   },
   "outputs": [],
   "source": [
    "df1_b = pd.read_excel('sdwh_20150916_2202_158008_注射オーダー数量_HBV.xlsx')"
   ]
  },
  {
   "cell_type": "code",
   "execution_count": 32,
   "metadata": {
    "collapsed": false
   },
   "outputs": [],
   "source": [
    "df1_ = pd.concat([df1_a,df1_b])"
   ]
  },
  {
   "cell_type": "code",
   "execution_count": 33,
   "metadata": {
    "collapsed": true
   },
   "outputs": [],
   "source": [
    "df2_ = pd.read_excel('sdwh_20150916_2159_158008_baraclude.xlsx')"
   ]
  },
  {
   "cell_type": "code",
   "execution_count": 34,
   "metadata": {
    "collapsed": true
   },
   "outputs": [],
   "source": [
    "df3_ = pd.read_excel('sdwh_20150916_1759_158008_kekka.xlsx')"
   ]
  },
  {
   "cell_type": "code",
   "execution_count": 35,
   "metadata": {
    "collapsed": true
   },
   "outputs": [],
   "source": [
    "df4_ = pd.read_excel('sdwh_20150916_1954_158008_yoyaku.xlsx')"
   ]
  },
  {
   "cell_type": "code",
   "execution_count": 36,
   "metadata": {
    "collapsed": false
   },
   "outputs": [],
   "source": [
    "df4_['予約日時'] = pd.to_datetime(df4_['予約日時'])\n",
    "\n",
    "df4_ = df4_.sort_values(['患者ＩＤ','診療科コード','予約日時'])\n",
    "\n",
    "df4_.drop_duplicates(['患者ＩＤ','診療科コード'],inplace=True)\n",
    "\n",
    "df4_.reset_index(inplace=True)\n",
    "\n",
    "df4_.drop('index',axis=1,inplace=True)"
   ]
  },
  {
   "cell_type": "code",
   "execution_count": 37,
   "metadata": {
    "collapsed": false
   },
   "outputs": [],
   "source": [
    "df1_ = df1_[['文書形態名', '文書タイトル', '実施日時', '文書日付', '患者ID', '患者表記名', '薬品コード', '薬品',\n",
    "       '薬品単位コード', '薬品単位名', '薬品数量', '用法の日数回数', '薬品使用量', '入外区分名', '更新部署コード','更新部署名']]"
   ]
  },
  {
   "cell_type": "code",
   "execution_count": 38,
   "metadata": {
    "collapsed": false
   },
   "outputs": [],
   "source": [
    "df1_.reset_index(inplace=True)"
   ]
  },
  {
   "cell_type": "code",
   "execution_count": 39,
   "metadata": {
    "collapsed": false
   },
   "outputs": [
    {
     "data": {
      "text/plain": [
       "534"
      ]
     },
     "execution_count": 39,
     "metadata": {},
     "output_type": "execute_result"
    }
   ],
   "source": [
    "len(df1_)"
   ]
  },
  {
   "cell_type": "code",
   "execution_count": 40,
   "metadata": {
    "collapsed": false
   },
   "outputs": [],
   "source": [
    "df1_['更新部署コード'] = df1_['更新部署コード'].fillna('')"
   ]
  },
  {
   "cell_type": "code",
   "execution_count": 41,
   "metadata": {
    "collapsed": false
   },
   "outputs": [],
   "source": [
    "# change float to integer.\n",
    "df1_['更新部署コード'] = df1_['更新部署コード'].apply(lambda x:int(x) if x != '' else x)"
   ]
  },
  {
   "cell_type": "code",
   "execution_count": 42,
   "metadata": {
    "collapsed": false
   },
   "outputs": [],
   "source": [
    "#df1_['更新部署コード'] = df1_['更新部署コード'].apply(lambda x:str(x)[:-2])"
   ]
  },
  {
   "cell_type": "code",
   "execution_count": 43,
   "metadata": {
    "collapsed": false
   },
   "outputs": [],
   "source": [
    "# the function which generate ids for postscription\n",
    "def idplot(wdf,wid):\n",
    "    for i in wdf.index.tolist():\n",
    "        wdf.loc[i,'index'] = wid+1+i"
   ]
  },
  {
   "cell_type": "code",
   "execution_count": 44,
   "metadata": {
    "collapsed": false
   },
   "outputs": [],
   "source": [
    "# yaku_hbv is a type of postscription.\n",
    "idplot(df1_,id1)"
   ]
  },
  {
   "cell_type": "code",
   "execution_count": 45,
   "metadata": {
    "collapsed": false
   },
   "outputs": [],
   "source": [
    "df1_.to_csv('sdwh_20150916_2159_158008_yaku_hbv.csv',index=False)"
   ]
  },
  {
   "cell_type": "code",
   "execution_count": 1,
   "metadata": {
    "collapsed": false
   },
   "outputs": [],
   "source": [
    "df2_"
   ]
  },
  {
   "cell_type": "code",
   "execution_count": 47,
   "metadata": {
    "collapsed": false
   },
   "outputs": [],
   "source": [
    "df2_.reset_index(inplace=True)"
   ]
  },
  {
   "cell_type": "code",
   "execution_count": 48,
   "metadata": {
    "collapsed": true
   },
   "outputs": [],
   "source": [
    "# baraclude is a type of postscription.\n",
    "idplot(df2_,id2)"
   ]
  },
  {
   "cell_type": "code",
   "execution_count": 2,
   "metadata": {
    "collapsed": false
   },
   "outputs": [],
   "source": [
    "df2_"
   ]
  },
  {
   "cell_type": "code",
   "execution_count": 50,
   "metadata": {
    "collapsed": true
   },
   "outputs": [],
   "source": [
    "df2_.to_csv('sdwh_20150916_2159_158008_baraclude.csv',index=False)"
   ]
  },
  {
   "cell_type": "code",
   "execution_count": 51,
   "metadata": {
    "collapsed": false
   },
   "outputs": [],
   "source": [
    "# kenreki\n",
    "idplot(rkc,id3)"
   ]
  },
  {
   "cell_type": "code",
   "execution_count": 52,
   "metadata": {
    "collapsed": false
   },
   "outputs": [],
   "source": [
    "# kenreki\n",
    "rkc.to_csv('sdwh_20160727_1218_158008_kenreki_mod.csv',index=False)"
   ]
  },
  {
   "cell_type": "code",
   "execution_count": 53,
   "metadata": {
    "collapsed": false
   },
   "outputs": [],
   "source": [
    "# kekka is a type of superscription.\n",
    "df3_.reset_index(inplace=True)\n",
    "\n",
    "df3_['index'] = df3_['index']+1\n",
    "\n",
    "# for death_flg, you should change the data type into integer from float.\n",
    "df3_['生存の有無_死亡チェック'] = df3_['生存の有無_死亡チェック'].apply(lambda x:int(x) if x==x else '')\n",
    "\n",
    "df3_.to_csv('sdwh_20150916_1759_158008_kekka.csv',index=False)"
   ]
  },
  {
   "cell_type": "code",
   "execution_count": 54,
   "metadata": {
    "collapsed": false
   },
   "outputs": [],
   "source": [
    "# yoyaku is a type of superscription.\n",
    "df4_.reset_index(inplace=True)\n",
    "\n",
    "df4_['index'] = df4_['index']+1\n",
    "\n",
    "# remove needless space on the leftmost.\n",
    "# df4_['診療科コード'] = df4_['診療科コード'].apply(lambda x:x.replace(' ',''))\n",
    "\n",
    "df4_.to_csv('sdwh_20150916_1954_158008_yoyaku.csv',index=False)"
   ]
  },
  {
   "cell_type": "code",
   "execution_count": 55,
   "metadata": {
    "collapsed": true
   },
   "outputs": [],
   "source": [
    "with pg.connect(database='uonuma_kikan',user='postgres',host='localhost',port=5432,password=12345) as conn:\n",
    "    cursor = conn.cursor()\n",
    "    sql = \"COPY yaku_hbv FROM 'C:\\import\\sdwh_20150916_2159_158008_yaku_hbv.csv' WITH ENCODING 'sjis' CSV HEADER;\"\n",
    "    cursor.execute(sql)"
   ]
  },
  {
   "cell_type": "code",
   "execution_count": 56,
   "metadata": {
    "collapsed": true
   },
   "outputs": [],
   "source": [
    "with pg.connect(database='uonuma_kikan',user='postgres',host='localhost',port=5432,password=12345) as conn:\n",
    "    cursor = conn.cursor()\n",
    "    sql = \"COPY baraclude FROM 'C:\\import\\sdwh_20150916_2159_158008_baraclude.csv' WITH ENCODING 'sjis' CSV HEADER;\"\n",
    "    cursor.execute(sql)"
   ]
  },
  {
   "cell_type": "code",
   "execution_count": 57,
   "metadata": {
    "collapsed": false
   },
   "outputs": [],
   "source": [
    "# kenreki\n",
    "with pg.connect(database='uonuma_kikan',user='postgres',host='localhost',port=5432,password=12345) as conn:\n",
    "    cursor = conn.cursor()\n",
    "    sql = \"COPY kenreki FROM 'C:\\import\\sdwh_20160727_1218_158008_kenreki_mod.csv' WITH ENCODING 'sjis' CSV HEADER;\"\n",
    "    cursor.execute(sql)"
   ]
  },
  {
   "cell_type": "code",
   "execution_count": 58,
   "metadata": {
    "collapsed": false
   },
   "outputs": [],
   "source": [
    "with pg.connect(database='uonuma_kikan',user='postgres',host='localhost',port=5432,password=12345) as conn:\n",
    "    cursor = conn.cursor()\n",
    "    sql = '''DELETE FROM kekka;\n",
    "             COPY kekka FROM 'C:\\import\\sdwh_20150916_1759_158008_kekka.csv' WITH ENCODING 'sjis' CSV HEADER;'''\n",
    "    cursor.execute(sql)"
   ]
  },
  {
   "cell_type": "code",
   "execution_count": 59,
   "metadata": {
    "collapsed": false
   },
   "outputs": [],
   "source": [
    "with pg.connect(database='uonuma_kikan',user='postgres',host='localhost',port=5432,password=12345) as conn:\n",
    "    cursor = conn.cursor()\n",
    "    sql = '''DELETE FROM yoyaku;\n",
    "             COPY yoyaku FROM 'C:\\import\\sdwh_20150916_1954_158008_yoyaku.csv' WITH ENCODING 'sjis' CSV HEADER;'''\n",
    "    cursor.execute(sql)"
   ]
  },
  {
   "cell_type": "code",
   "execution_count": null,
   "metadata": {
    "collapsed": true
   },
   "outputs": [],
   "source": []
  }
 ],
 "metadata": {
  "kernelspec": {
   "display_name": "Python 3",
   "language": "python",
   "name": "python3"
  },
  "language_info": {
   "codemirror_mode": {
    "name": "ipython",
    "version": 3
   },
   "file_extension": ".py",
   "mimetype": "text/x-python",
   "name": "python",
   "nbconvert_exporter": "python",
   "pygments_lexer": "ipython3",
   "version": "3.4.3"
  }
 },
 "nbformat": 4,
 "nbformat_minor": 0
}
